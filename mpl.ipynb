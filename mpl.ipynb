{
 "cells": [
  {
   "cell_type": "code",
   "execution_count": 1,
   "metadata": {},
   "outputs": [],
   "source": [
    "import torch\n",
    "from torch import Tensor\n",
    "import torch.nn.functional as F\n",
    "import matplotlib.pyplot as plt\n",
    "\n",
    "import random\n",
    "import numpy as np\n",
    "\n",
    "from src.util import get_names_list, get_chars, get_itos_stoi"
   ]
  },
  {
   "cell_type": "code",
   "execution_count": 10,
   "metadata": {},
   "outputs": [
    {
     "name": "stdout",
     "output_type": "stream",
     "text": [
      "tensor([1., 2., 3.], requires_grad=True) tensor([4., 5., 6.], requires_grad=True)\n",
      "tensor([-3., -3., -3.], requires_grad=True) tensor([3., 3., 3.], requires_grad=True)\n"
     ]
    }
   ],
   "source": [
    "x = torch.tensor([1.0, 2.0, 3.0], requires_grad=True)\n",
    "y = torch.tensor([4.0, 5.0, 6.0], requires_grad=True)\n",
    "\n",
    "def func(params: list[Tensor]) -> None:\n",
    "    z = sum(x * y)\n",
    "    z.backward()\n",
    "\n",
    "    for p in params:\n",
    "        p.data -= 1.0 * p.grad\n",
    "\n",
    "print(x, y)\n",
    "func((x, y))\n",
    "print(x, y)\n"
   ]
  },
  {
   "cell_type": "code",
   "execution_count": 2,
   "metadata": {},
   "outputs": [],
   "source": [
    "words: list[str] = get_names_list()"
   ]
  },
  {
   "cell_type": "code",
   "execution_count": 3,
   "metadata": {},
   "outputs": [],
   "source": [
    "chars: str = get_chars()\n",
    "itos, stoi = get_itos_stoi()"
   ]
  },
  {
   "cell_type": "code",
   "execution_count": 4,
   "metadata": {},
   "outputs": [],
   "source": [
    "# HyperParamters\n",
    "EMBEDDING_SIZE = 20\n",
    "CHARSET_SIZE = 27\n",
    "CONTEXT_LENGTH = 5\n",
    "NUM_HIDDEN_NEURONS = 500\n",
    "LEARNING_RATE = 0.1\n",
    "NUM_EPOCHS = 100_000\n",
    "\n",
    "BATCH_SIZE = 128 "
   ]
  },
  {
   "cell_type": "code",
   "execution_count": 5,
   "metadata": {},
   "outputs": [],
   "source": [
    "# Build the Dataset\n",
    "def build_dataset(words) -> tuple[Tensor, Tensor]:\n",
    "    X, Y = [], []\n",
    "    for w in words:\n",
    "        context: list[int] = [0] * CONTEXT_LENGTH\n",
    "        for ch in w + \".\":\n",
    "            idx: int = stoi[ch]\n",
    "            X.append(context)\n",
    "            Y.append(idx)\n",
    "            context: list[int] = context[1:] + [idx]\n",
    "        \n",
    "    X: Tensor = torch.tensor(X)\n",
    "    Y: Tensor = torch.tensor(Y)\n",
    "    return X, Y\n",
    "\n",
    "random.seed(42)\n",
    "random.shuffle(words)\n",
    "n1 = int(0.8 * len(words))\n",
    "n2 = int(0.9 * len(words))\n",
    "Xtr, Ytr = build_dataset(words[:n1])\n",
    "Xdev, Ydev = build_dataset(words[n1:n2])\n",
    "Xte, Yte = build_dataset(words[n2:])"
   ]
  },
  {
   "cell_type": "code",
   "execution_count": 6,
   "metadata": {},
   "outputs": [],
   "source": [
    "_rng = torch.Generator().manual_seed(2147483647)\n",
    "\n",
    "C: Tensor = torch.randn((CHARSET_SIZE, EMBEDDING_SIZE), requires_grad=True, generator = _rng)\n",
    "\n",
    "W1: Tensor = torch.randn((EMBEDDING_SIZE * CONTEXT_LENGTH, NUM_HIDDEN_NEURONS), generator = _rng, requires_grad=True)\n",
    "b1: Tensor = torch.randn(NUM_HIDDEN_NEURONS, generator = _rng, requires_grad=True)\n",
    "W2: Tensor = torch.randn((NUM_HIDDEN_NEURONS, CHARSET_SIZE), generator = _rng, requires_grad=True)\n",
    "b2: Tensor = torch.randn(CHARSET_SIZE, generator = _rng, requires_grad=True)\n",
    "\n",
    "_parameters: list[Tensor] = [C, W1, b1, W2, b2]"
   ]
  },
  {
   "cell_type": "code",
   "execution_count": 7,
   "metadata": {},
   "outputs": [
    {
     "name": "stdout",
     "output_type": "stream",
     "text": [
      "Training loss: 2.1342215538024902\n",
      "Dev loss: 2.1655337810516357\n"
     ]
    }
   ],
   "source": [
    "losses = []\n",
    "for i in range(NUM_EPOCHS):\n",
    "    # Mini-batch\n",
    "    idxs: Tensor = torch.randint(0, Xtr.shape[0], (BATCH_SIZE,))\n",
    "\n",
    "    # Forward pass\n",
    "    emb: Tensor = C[Xtr[idxs]]\n",
    "    assert emb.shape == torch.Size([BATCH_SIZE, CONTEXT_LENGTH, EMBEDDING_SIZE])\n",
    "\n",
    "    h: Tensor = (emb.view(-1, EMBEDDING_SIZE * CONTEXT_LENGTH) @ W1 + b1).sigmoid()\n",
    "    assert h.shape == torch.Size([BATCH_SIZE, NUM_HIDDEN_NEURONS])\n",
    "\n",
    "    logits: Tensor = h @ W2 + b2\n",
    "    assert logits.shape == torch.Size([BATCH_SIZE, CHARSET_SIZE])\n",
    "\n",
    "    loss: Tensor = F.cross_entropy(logits, Ytr[idxs])\n",
    "\n",
    "    # Backward pass\n",
    "    for p in _parameters:\n",
    "        p.grad = None\n",
    "\n",
    "    loss.backward()\n",
    "\n",
    "    learning_rate = (1 - 0.9 * i / NUM_EPOCHS) * LEARNING_RATE\n",
    "    for p in _parameters:\n",
    "        p.data -= learning_rate * p.grad\n",
    "\n",
    "    losses.append(loss.item())\n",
    "\n",
    "emb: Tensor = C[Xtr]\n",
    "h: Tensor = (emb.view(-1, EMBEDDING_SIZE * CONTEXT_LENGTH) @ W1 + b1).sigmoid()\n",
    "logits: Tensor = h @ W2 + b2\n",
    "loss: Tensor = F.cross_entropy(logits, Ytr)\n",
    "print(\"Training loss:\", loss.item())\n",
    "\n",
    "emb: Tensor = C[Xdev]\n",
    "h: Tensor = (emb.view(-1, EMBEDDING_SIZE * CONTEXT_LENGTH) @ W1 + b1).sigmoid()\n",
    "logits: Tensor = h @ W2 + b2\n",
    "loss: Tensor = F.cross_entropy(logits, Ydev)\n",
    "print(\"Dev loss:\", loss.item())"
   ]
  },
  {
   "cell_type": "code",
   "execution_count": 8,
   "metadata": {},
   "outputs": [
    {
     "data": {
      "text/plain": [
       "[<matplotlib.lines.Line2D at 0x17bc99850>]"
      ]
     },
     "execution_count": 8,
     "metadata": {},
     "output_type": "execute_result"
    },
    {
     "data": {
      "image/png": "[encoded data removed]",
      "text/plain": [
       "<Figure size 640x480 with 1 Axes>"
      ]
     },
     "metadata": {},
     "output_type": "display_data"
    }
   ],
   "source": [
    "plt.plot(range(len(losses)), losses)"
   ]
  },
  {
   "cell_type": "code",
   "execution_count": 10,
   "metadata": {},
   "outputs": [
    {
     "data": {
      "text/plain": [
       "(2.135714465737343, 2.5469272136688232, 1.8613179922103882)"
      ]
     },
     "execution_count": 10,
     "metadata": {},
     "output_type": "execute_result"
    }
   ],
   "source": [
    "np.array(losses)[-1000:].mean(), np.array(losses)[-1000:].max(), np.array(losses)[-1000:].min()"
   ]
  },
  {
   "cell_type": "code",
   "execution_count": null,
   "metadata": {},
   "outputs": [],
   "source": [
    "emb: Tensor = C[Xte]\n",
    "h: Tensor = (emb.view(-1, EMBEDDING_SIZE * CONTEXT_LENGTH) @ W1 + b1).sigmoid()\n",
    "logits: Tensor = h @ W2 + b2\n",
    "loss: Tensor = F.cross_entropy(logits, Yte)\n",
    "print(\"Dev loss:\", loss.item())"
   ]
  },
  {
   "cell_type": "code",
   "execution_count": null,
   "metadata": {},
   "outputs": [],
   "source": []
  }
 ],
 "metadata": {
  "kernelspec": {
   "display_name": ".venv",
   "language": "python",
   "name": "python3"
  },
  "language_info": {
   "codemirror_mode": {
    "name": "ipython",
    "version": 3
   },
   "file_extension": ".py",
   "mimetype": "text/x-python",
   "name": "python",
   "nbconvert_exporter": "python",
   "pygments_lexer": "ipython3",
   "version": "3.12.2"
  }
 },
 "nbformat": 4,
 "nbformat_minor": 2
}
